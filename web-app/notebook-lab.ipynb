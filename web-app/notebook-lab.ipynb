{
  "cells": [
    {
      "cell_type": "markdown",
      "metadata": {
        "id": "pNnb-In-fxEV"
      },
      "source": [
        "## Build a Web App using a Regression model to learn about UFO sighting"
      ]
    },
    {
      "cell_type": "code",
      "execution_count": 11,
      "metadata": {
        "colab": {
          "base_uri": "https://localhost:8080/",
          "height": 310
        },
        "id": "pyzAW_UrfxEY",
        "outputId": "e3892996-bf0a-42f7-b85b-694896a83a7a",
        "tags": []
      },
      "outputs": [
        {
          "data": {
            "text/html": [
              "<div>\n",
              "<style scoped>\n",
              "    .dataframe tbody tr th:only-of-type {\n",
              "        vertical-align: middle;\n",
              "    }\n",
              "\n",
              "    .dataframe tbody tr th {\n",
              "        vertical-align: top;\n",
              "    }\n",
              "\n",
              "    .dataframe thead th {\n",
              "        text-align: right;\n",
              "    }\n",
              "</style>\n",
              "<table border=\"1\" class=\"dataframe\">\n",
              "  <thead>\n",
              "    <tr style=\"text-align: right;\">\n",
              "      <th></th>\n",
              "      <th>datetime</th>\n",
              "      <th>city</th>\n",
              "      <th>state</th>\n",
              "      <th>country</th>\n",
              "      <th>shape</th>\n",
              "      <th>duration (seconds)</th>\n",
              "      <th>duration (hours/min)</th>\n",
              "      <th>comments</th>\n",
              "      <th>date posted</th>\n",
              "      <th>latitude</th>\n",
              "      <th>longitude</th>\n",
              "    </tr>\n",
              "  </thead>\n",
              "  <tbody>\n",
              "    <tr>\n",
              "      <th>0</th>\n",
              "      <td>10/10/1949 20:30</td>\n",
              "      <td>san marcos</td>\n",
              "      <td>tx</td>\n",
              "      <td>us</td>\n",
              "      <td>cylinder</td>\n",
              "      <td>2700.0</td>\n",
              "      <td>45 minutes</td>\n",
              "      <td>This event took place in early fall around 194...</td>\n",
              "      <td>4/27/2004</td>\n",
              "      <td>29.883056</td>\n",
              "      <td>-97.941111</td>\n",
              "    </tr>\n",
              "    <tr>\n",
              "      <th>1</th>\n",
              "      <td>10/10/1949 21:00</td>\n",
              "      <td>lackland afb</td>\n",
              "      <td>tx</td>\n",
              "      <td>NaN</td>\n",
              "      <td>light</td>\n",
              "      <td>7200.0</td>\n",
              "      <td>1-2 hrs</td>\n",
              "      <td>1949 Lackland AFB&amp;#44 TX.  Lights racing acros...</td>\n",
              "      <td>12/16/2005</td>\n",
              "      <td>29.384210</td>\n",
              "      <td>-98.581082</td>\n",
              "    </tr>\n",
              "    <tr>\n",
              "      <th>2</th>\n",
              "      <td>10/10/1955 17:00</td>\n",
              "      <td>chester (uk/england)</td>\n",
              "      <td>NaN</td>\n",
              "      <td>gb</td>\n",
              "      <td>circle</td>\n",
              "      <td>20.0</td>\n",
              "      <td>20 seconds</td>\n",
              "      <td>Green/Orange circular disc over Chester&amp;#44 En...</td>\n",
              "      <td>1/21/2008</td>\n",
              "      <td>53.200000</td>\n",
              "      <td>-2.916667</td>\n",
              "    </tr>\n",
              "    <tr>\n",
              "      <th>3</th>\n",
              "      <td>10/10/1956 21:00</td>\n",
              "      <td>edna</td>\n",
              "      <td>tx</td>\n",
              "      <td>us</td>\n",
              "      <td>circle</td>\n",
              "      <td>20.0</td>\n",
              "      <td>1/2 hour</td>\n",
              "      <td>My older brother and twin sister were leaving ...</td>\n",
              "      <td>1/17/2004</td>\n",
              "      <td>28.978333</td>\n",
              "      <td>-96.645833</td>\n",
              "    </tr>\n",
              "    <tr>\n",
              "      <th>4</th>\n",
              "      <td>10/10/1960 20:00</td>\n",
              "      <td>kaneohe</td>\n",
              "      <td>hi</td>\n",
              "      <td>us</td>\n",
              "      <td>light</td>\n",
              "      <td>900.0</td>\n",
              "      <td>15 minutes</td>\n",
              "      <td>AS a Marine 1st Lt. flying an FJ4B fighter/att...</td>\n",
              "      <td>1/22/2004</td>\n",
              "      <td>21.418056</td>\n",
              "      <td>-157.803611</td>\n",
              "    </tr>\n",
              "  </tbody>\n",
              "</table>\n",
              "</div>"
            ],
            "text/plain": [
              "           datetime                  city state country     shape  \\\n",
              "0  10/10/1949 20:30            san marcos    tx      us  cylinder   \n",
              "1  10/10/1949 21:00          lackland afb    tx     NaN     light   \n",
              "2  10/10/1955 17:00  chester (uk/england)   NaN      gb    circle   \n",
              "3  10/10/1956 21:00                  edna    tx      us    circle   \n",
              "4  10/10/1960 20:00               kaneohe    hi      us     light   \n",
              "\n",
              "   duration (seconds) duration (hours/min)  \\\n",
              "0              2700.0           45 minutes   \n",
              "1              7200.0              1-2 hrs   \n",
              "2                20.0           20 seconds   \n",
              "3                20.0             1/2 hour   \n",
              "4               900.0           15 minutes   \n",
              "\n",
              "                                            comments date posted   latitude  \\\n",
              "0  This event took place in early fall around 194...   4/27/2004  29.883056   \n",
              "1  1949 Lackland AFB&#44 TX.  Lights racing acros...  12/16/2005  29.384210   \n",
              "2  Green/Orange circular disc over Chester&#44 En...   1/21/2008  53.200000   \n",
              "3  My older brother and twin sister were leaving ...   1/17/2004  28.978333   \n",
              "4  AS a Marine 1st Lt. flying an FJ4B fighter/att...   1/22/2004  21.418056   \n",
              "\n",
              "    longitude  \n",
              "0  -97.941111  \n",
              "1  -98.581082  \n",
              "2   -2.916667  \n",
              "3  -96.645833  \n",
              "4 -157.803611  "
            ]
          },
          "execution_count": 11,
          "metadata": {},
          "output_type": "execute_result"
        }
      ],
      "source": [
        "import pandas as pd\n",
        "import numpy as np\n",
        "\n",
        "url = 'https://raw.githubusercontent.com/sofzcc/lab-model-deployment/main/web-app/data/ufos.csv'\n",
        "ufos = pd.read_csv(url)\n",
        "ufos.head()\n"
      ]
    },
    {
      "cell_type": "code",
      "execution_count": 12,
      "metadata": {
        "colab": {
          "base_uri": "https://localhost:8080/",
          "height": 206
        },
        "id": "gCiFX1krfxEZ",
        "outputId": "b6dd0519-0921-4e30-a1d4-39c14900fadc",
        "tags": []
      },
      "outputs": [
        {
          "data": {
            "text/html": [
              "<div>\n",
              "<style scoped>\n",
              "    .dataframe tbody tr th:only-of-type {\n",
              "        vertical-align: middle;\n",
              "    }\n",
              "\n",
              "    .dataframe tbody tr th {\n",
              "        vertical-align: top;\n",
              "    }\n",
              "\n",
              "    .dataframe thead th {\n",
              "        text-align: right;\n",
              "    }\n",
              "</style>\n",
              "<table border=\"1\" class=\"dataframe\">\n",
              "  <thead>\n",
              "    <tr style=\"text-align: right;\">\n",
              "      <th></th>\n",
              "      <th>Duration</th>\n",
              "      <th>City</th>\n",
              "      <th>Latitude</th>\n",
              "      <th>Longitude</th>\n",
              "      <th>Shape</th>\n",
              "    </tr>\n",
              "  </thead>\n",
              "  <tbody>\n",
              "    <tr>\n",
              "      <th>0</th>\n",
              "      <td>2700.0</td>\n",
              "      <td>san marcos</td>\n",
              "      <td>29.883056</td>\n",
              "      <td>-97.941111</td>\n",
              "      <td>cylinder</td>\n",
              "    </tr>\n",
              "    <tr>\n",
              "      <th>1</th>\n",
              "      <td>7200.0</td>\n",
              "      <td>lackland afb</td>\n",
              "      <td>29.384210</td>\n",
              "      <td>-98.581082</td>\n",
              "      <td>light</td>\n",
              "    </tr>\n",
              "    <tr>\n",
              "      <th>2</th>\n",
              "      <td>20.0</td>\n",
              "      <td>chester (uk/england)</td>\n",
              "      <td>53.200000</td>\n",
              "      <td>-2.916667</td>\n",
              "      <td>circle</td>\n",
              "    </tr>\n",
              "    <tr>\n",
              "      <th>3</th>\n",
              "      <td>20.0</td>\n",
              "      <td>edna</td>\n",
              "      <td>28.978333</td>\n",
              "      <td>-96.645833</td>\n",
              "      <td>circle</td>\n",
              "    </tr>\n",
              "    <tr>\n",
              "      <th>4</th>\n",
              "      <td>900.0</td>\n",
              "      <td>kaneohe</td>\n",
              "      <td>21.418056</td>\n",
              "      <td>-157.803611</td>\n",
              "      <td>light</td>\n",
              "    </tr>\n",
              "  </tbody>\n",
              "</table>\n",
              "</div>"
            ],
            "text/plain": [
              "   Duration                  City   Latitude   Longitude     Shape\n",
              "0    2700.0            san marcos  29.883056  -97.941111  cylinder\n",
              "1    7200.0          lackland afb  29.384210  -98.581082     light\n",
              "2      20.0  chester (uk/england)  53.200000   -2.916667    circle\n",
              "3      20.0                  edna  28.978333  -96.645833    circle\n",
              "4     900.0               kaneohe  21.418056 -157.803611     light"
            ]
          },
          "execution_count": 12,
          "metadata": {},
          "output_type": "execute_result"
        }
      ],
      "source": [
        "\n",
        "ufos = pd.DataFrame({'Duration': ufos['duration (seconds)'], 'City': ufos['city'],'Latitude': ufos['latitude'],'Longitude': ufos['longitude'], 'Shape': ufos['shape']})\n",
        "\n",
        "# Drop rows with missing values\n",
        "ufos.Shape.unique()\n",
        "ufos.head()\n",
        "\n",
        "# 0 au, 1 ca, 2 de, 3 gb, 4 us"
      ]
    },
    {
      "cell_type": "code",
      "execution_count": 13,
      "metadata": {
        "colab": {
          "base_uri": "https://localhost:8080/"
        },
        "id": "HGrLRa4zfxEa",
        "outputId": "b739e623-e7b9-4001-f5f2-77929fe06206"
      },
      "outputs": [
        {
          "name": "stdout",
          "output_type": "stream",
          "text": [
            "['cylinder' 'light' 'circle' 'sphere' 'disk' 'fireball' 'unknown' 'oval'\n",
            " 'other' 'cigar' 'rectangle' 'chevron' 'triangle' 'formation' nan 'delta'\n",
            " 'changing' 'egg' 'diamond' 'flash' 'teardrop' 'cone' 'cross' 'pyramid'\n",
            " 'round' 'crescent' 'flare' 'hexagon' 'dome' 'changed']\n"
          ]
        }
      ],
      "source": [
        "print(ufos['Shape'].unique())\n"
      ]
    },
    {
      "cell_type": "code",
      "execution_count": 14,
      "metadata": {
        "colab": {
          "base_uri": "https://localhost:8080/"
        },
        "id": "Bx3ZnkkwfxEa",
        "outputId": "8a5fcd66-c106-4b90-f4c9-40a25840ef8a",
        "tags": []
      },
      "outputs": [
        {
          "name": "stdout",
          "output_type": "stream",
          "text": [
            "<class 'pandas.core.frame.DataFrame'>\n",
            "Index: 28563 entries, 2 to 80330\n",
            "Data columns (total 5 columns):\n",
            " #   Column     Non-Null Count  Dtype  \n",
            "---  ------     --------------  -----  \n",
            " 0   Duration   28563 non-null  float64\n",
            " 1   City       28563 non-null  object \n",
            " 2   Latitude   28563 non-null  float64\n",
            " 3   Longitude  28563 non-null  float64\n",
            " 4   Shape      28563 non-null  object \n",
            "dtypes: float64(3), object(2)\n",
            "memory usage: 1.3+ MB\n"
          ]
        }
      ],
      "source": [
        "ufos.dropna(inplace=True)\n",
        "\n",
        "ufos = ufos[(ufos['Duration'] >= 1) & (ufos['Duration'] <= 60)]\n",
        "\n",
        "ufos.info()\n",
        "\n"
      ]
    },
    {
      "cell_type": "code",
      "execution_count": 15,
      "metadata": {
        "colab": {
          "base_uri": "https://localhost:8080/",
          "height": 206
        },
        "id": "FytKgPPnfxEa",
        "outputId": "4da1885a-4a4d-4f57-b5e4-d84e502ccdfe",
        "tags": []
      },
      "outputs": [
        {
          "data": {
            "text/html": [
              "<div>\n",
              "<style scoped>\n",
              "    .dataframe tbody tr th:only-of-type {\n",
              "        vertical-align: middle;\n",
              "    }\n",
              "\n",
              "    .dataframe tbody tr th {\n",
              "        vertical-align: top;\n",
              "    }\n",
              "\n",
              "    .dataframe thead th {\n",
              "        text-align: right;\n",
              "    }\n",
              "</style>\n",
              "<table border=\"1\" class=\"dataframe\">\n",
              "  <thead>\n",
              "    <tr style=\"text-align: right;\">\n",
              "      <th></th>\n",
              "      <th>Duration</th>\n",
              "      <th>City</th>\n",
              "      <th>Latitude</th>\n",
              "      <th>Longitude</th>\n",
              "      <th>Shape</th>\n",
              "    </tr>\n",
              "  </thead>\n",
              "  <tbody>\n",
              "    <tr>\n",
              "      <th>2</th>\n",
              "      <td>20.0</td>\n",
              "      <td>chester (uk/england)</td>\n",
              "      <td>53.200000</td>\n",
              "      <td>-2.916667</td>\n",
              "      <td>3</td>\n",
              "    </tr>\n",
              "    <tr>\n",
              "      <th>3</th>\n",
              "      <td>20.0</td>\n",
              "      <td>edna</td>\n",
              "      <td>28.978333</td>\n",
              "      <td>-96.645833</td>\n",
              "      <td>3</td>\n",
              "    </tr>\n",
              "    <tr>\n",
              "      <th>14</th>\n",
              "      <td>30.0</td>\n",
              "      <td>lexington</td>\n",
              "      <td>35.823889</td>\n",
              "      <td>-80.253611</td>\n",
              "      <td>19</td>\n",
              "    </tr>\n",
              "    <tr>\n",
              "      <th>18</th>\n",
              "      <td>20.0</td>\n",
              "      <td>bermuda nas</td>\n",
              "      <td>32.364167</td>\n",
              "      <td>-64.678611</td>\n",
              "      <td>17</td>\n",
              "    </tr>\n",
              "    <tr>\n",
              "      <th>23</th>\n",
              "      <td>60.0</td>\n",
              "      <td>washougal</td>\n",
              "      <td>45.582778</td>\n",
              "      <td>-122.352222</td>\n",
              "      <td>19</td>\n",
              "    </tr>\n",
              "  </tbody>\n",
              "</table>\n",
              "</div>"
            ],
            "text/plain": [
              "    Duration                  City   Latitude   Longitude  Shape\n",
              "2       20.0  chester (uk/england)  53.200000   -2.916667      3\n",
              "3       20.0                  edna  28.978333  -96.645833      3\n",
              "14      30.0             lexington  35.823889  -80.253611     19\n",
              "18      20.0           bermuda nas  32.364167  -64.678611     17\n",
              "23      60.0             washougal  45.582778 -122.352222     19"
            ]
          },
          "execution_count": 15,
          "metadata": {},
          "output_type": "execute_result"
        }
      ],
      "source": [
        "from sklearn.preprocessing import LabelEncoder\n",
        "\n",
        "ufos['Shape'] = LabelEncoder().fit_transform(ufos['Shape'])\n",
        "\n",
        "ufos.head()\n",
        "\n"
      ]
    },
    {
      "cell_type": "code",
      "execution_count": 16,
      "metadata": {
        "id": "qBq0AyzgfxEb",
        "tags": []
      },
      "outputs": [],
      "source": [
        "from sklearn.model_selection import train_test_split\n",
        "\n",
        "#Encode the Shape column\n",
        "label_encoder = LabelEncoder()\n",
        "ufos['Shape'] = label_encoder.fit_transform(ufos['Shape'])\n",
        "\n",
        "Selected_features = ['Duration','Latitude','Longitude']\n",
        "\n",
        "X = ufos[Selected_features]\n",
        "y = ufos['Shape']\n",
        "\n",
        "\n",
        "X_train, X_test, y_train, y_test = train_test_split(X, y, test_size=0.2, random_state=0)\n",
        "\n"
      ]
    },
    {
      "cell_type": "code",
      "execution_count": 17,
      "metadata": {
        "colab": {
          "base_uri": "https://localhost:8080/"
        },
        "id": "nwFr9flrfxEb",
        "outputId": "2cb914ee-96d7-44ad-9cf9-428b67bb2641"
      },
      "outputs": [
        {
          "name": "stdout",
          "output_type": "stream",
          "text": [
            "              precision    recall  f1-score   support\n",
            "\n",
            "           0       0.00      0.00      0.00        79\n",
            "           1       0.00      0.00      0.00        99\n",
            "           2       0.00      0.00      0.00       156\n",
            "           3       0.00      0.00      0.00       520\n",
            "           4       0.00      0.00      0.00        18\n",
            "           5       0.00      0.00      0.00         1\n",
            "           6       0.00      0.00      0.00        18\n",
            "           7       0.00      0.00      0.00        80\n",
            "           8       0.00      0.00      0.00         2\n",
            "           9       0.00      0.00      0.00        70\n",
            "          10       0.00      0.00      0.00       306\n",
            "          12       0.00      0.00      0.00        51\n",
            "          13       0.00      0.00      0.00       567\n",
            "          15       0.00      0.00      0.00       147\n",
            "          16       0.00      0.00      0.00       161\n",
            "          17       0.21      1.00      0.35      1212\n",
            "          18       0.00      0.00      0.00       416\n",
            "          19       0.00      0.00      0.00       290\n",
            "          20       0.00      0.00      0.00       113\n",
            "          22       0.00      0.00      0.00       363\n",
            "          23       0.00      0.00      0.00        72\n",
            "          24       0.00      0.00      0.00       573\n",
            "          25       0.00      0.00      0.00       399\n",
            "\n",
            "    accuracy                           0.21      5713\n",
            "   macro avg       0.01      0.04      0.02      5713\n",
            "weighted avg       0.05      0.21      0.07      5713\n",
            "\n",
            "Predicted labels:  [17 17 17 ... 17 17 17]\n",
            "Accuracy:  0.212147733239979\n"
          ]
        },
        {
          "name": "stderr",
          "output_type": "stream",
          "text": [
            "/opt/anaconda3/lib/python3.11/site-packages/sklearn/linear_model/_logistic.py:458: ConvergenceWarning: lbfgs failed to converge (status=1):\n",
            "STOP: TOTAL NO. of ITERATIONS REACHED LIMIT.\n",
            "\n",
            "Increase the number of iterations (max_iter) or scale the data as shown in:\n",
            "    https://scikit-learn.org/stable/modules/preprocessing.html\n",
            "Please also refer to the documentation for alternative solver options:\n",
            "    https://scikit-learn.org/stable/modules/linear_model.html#logistic-regression\n",
            "  n_iter_i = _check_optimize_result(\n",
            "/opt/anaconda3/lib/python3.11/site-packages/sklearn/metrics/_classification.py:1344: UndefinedMetricWarning: Precision and F-score are ill-defined and being set to 0.0 in labels with no predicted samples. Use `zero_division` parameter to control this behavior.\n",
            "  _warn_prf(average, modifier, msg_start, len(result))\n",
            "/opt/anaconda3/lib/python3.11/site-packages/sklearn/metrics/_classification.py:1344: UndefinedMetricWarning: Precision and F-score are ill-defined and being set to 0.0 in labels with no predicted samples. Use `zero_division` parameter to control this behavior.\n",
            "  _warn_prf(average, modifier, msg_start, len(result))\n",
            "/opt/anaconda3/lib/python3.11/site-packages/sklearn/metrics/_classification.py:1344: UndefinedMetricWarning: Precision and F-score are ill-defined and being set to 0.0 in labels with no predicted samples. Use `zero_division` parameter to control this behavior.\n",
            "  _warn_prf(average, modifier, msg_start, len(result))\n"
          ]
        }
      ],
      "source": [
        "# Complete the model training here\n",
        "import pandas as pd\n",
        "import numpy as np\n",
        "from sklearn.metrics import accuracy_score, classification_report\n",
        "from sklearn.linear_model import LogisticRegression\n",
        "\n",
        "\n",
        "model = LogisticRegression(penalty='l2', C=1.0, max_iter=1000)  #max_iter = 1000, since both 100 and 500 iterations returned \"STOP: TOTAL NO. of ITERATIONS REACHED LIMIT. Logistic regression\"\n",
        "\n",
        "\n",
        "model.fit(X_train, y_train)\n",
        "\n",
        "predictions = model.predict(X_test)\n",
        "print(classification_report(y_test, predictions))\n",
        "print('Predicted labels: ', predictions)\n",
        "print('Accuracy: ', accuracy_score(y_test, predictions))"
      ]
    },
    {
      "cell_type": "code",
      "execution_count": 18,
      "metadata": {
        "colab": {
          "base_uri": "https://localhost:8080/"
        },
        "id": "30FKV9f0fxEc",
        "outputId": "27be1c8f-0bf6-4526-e5d1-bea693f63d34",
        "tags": []
      },
      "outputs": [
        {
          "name": "stdout",
          "output_type": "stream",
          "text": [
            "[17]\n"
          ]
        },
        {
          "name": "stderr",
          "output_type": "stream",
          "text": [
            "/opt/anaconda3/lib/python3.11/site-packages/sklearn/base.py:439: UserWarning: X does not have valid feature names, but LogisticRegression was fitted with feature names\n",
            "  warnings.warn(\n"
          ]
        }
      ],
      "source": [
        "import pickle\n",
        "\n",
        "\n",
        "model_filename = 'ufo-model.pkl'\n",
        "pickle.dump(model, open(model_filename,'wb'))\n",
        "\n",
        "model = pickle.load(open('ufo-model.pkl','rb'))\n",
        "print(model.predict([[50,60,-12]]))\n",
        "\n",
        "\n"
      ]
    },
    {
      "cell_type": "code",
      "execution_count": 19,
      "metadata": {
        "colab": {
          "base_uri": "https://localhost:8080/",
          "height": 35
        },
        "id": "LTbBvT_dfxEc",
        "outputId": "649aaff5-08b9-46e1-cf96-46fa52dfcf9d",
        "tags": []
      },
      "outputs": [
        {
          "data": {
            "text/plain": [
              "'/Users/sofiacascaiscosta/Documents/Training/AI Engineering/Week 2/Day 5/lab-model-deployment/web-app'"
            ]
          },
          "execution_count": 19,
          "metadata": {},
          "output_type": "execute_result"
        }
      ],
      "source": [
        "pwd"
      ]
    }
  ],
  "metadata": {
    "colab": {
      "provenance": []
    },
    "kernelspec": {
      "display_name": "Python 3 (ipykernel)",
      "language": "python",
      "name": "python3"
    },
    "language_info": {
      "codemirror_mode": {
        "name": "ipython",
        "version": 3
      },
      "file_extension": ".py",
      "mimetype": "text/x-python",
      "name": "python",
      "nbconvert_exporter": "python",
      "pygments_lexer": "ipython3",
      "version": "3.11.7"
    },
    "metadata": {
      "interpreter": {
        "hash": "70b38d7a306a849643e446cd70466270a13445e5987dfa1344ef2b127438fa4d"
      }
    }
  },
  "nbformat": 4,
  "nbformat_minor": 0
}
